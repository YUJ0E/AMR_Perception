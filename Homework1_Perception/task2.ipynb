{
 "cells": [
  {
   "cell_type": "markdown",
   "metadata": {},
   "source": [
    "LOAD DATA "
   ]
  },
  {
   "cell_type": "code",
   "execution_count": 1,
   "metadata": {
    "ExecuteTime": {
     "end_time": "2024-02-22T10:32:50.657582Z",
     "start_time": "2024-02-22T10:32:50.280417500Z"
    }
   },
   "outputs": [],
   "source": [
    "import numpy as np\n",
    "import matplotlib.pyplot as plt\n",
    "\n",
    "data_path = 'data/Task 2/sample_1a2bc3012c9defca.npz'\n"
   ]
  },
  {
   "cell_type": "markdown",
   "metadata": {},
   "source": []
  },
  {
   "cell_type": "code",
   "execution_count": 2,
   "metadata": {
    "ExecuteTime": {
     "end_time": "2024-02-22T10:32:50.692188900Z",
     "start_time": "2024-02-22T10:32:50.660591500Z"
    }
   },
   "outputs": [],
   "source": [
    "info = np.load(data_path, allow_pickle=True)\n",
    "all_agent_trajs = info['all_agent']\n",
    "all_agent_trajs.shape  #[24 agents, 91 timesteps the interval between each timestep is 0.1 second,\\\n",
    "#10 denotes [center_x, center_y, center_z, boundingbox_x, boundingbox_y, boundingbox_z, heading, vel_x, vel_y, valid] ]\n",
    "#the valid flag is either 0 or 1. 1 means the valid, 0 means invalid\n",
    "obj_types = info['object_type']\n",
    "lane_polylines = info['lane']  #  list of [n,7] array [x,y,z,ori_x,ori_y,ori_z,type]\n",
    "road_polylines = info['road_polylines']  #  list of [n,7] array [x,y,z,ori_x,ori_y,ori_z,type]\n",
    "crosswalk_polylines = info['crosswalk']  #  list of [n,7] array [x,y,z,ori_x,ori_y,ori_z,type]\n",
    "speed_bump_polylines = info['speed_bump']  #  list of [n,7] array [x,y,z,ori_x,ori_y,ori_z,type]\n",
    "stop_signs_polylines = info['stop_sign']  #  list of [n,7] array [x,y,z,ori_x,ori_y,ori_z,type]\n",
    "drive_way_polylines = info['drive_way']  #  list of [n,7] array [x,y,z,ori_x,ori_y,ori_z,type]\n"
   ]
  },
  {
   "cell_type": "markdown",
   "metadata": {},
   "source": [
    "We select the 11th timestep as the current timestep "
   ]
  },
  {
   "cell_type": "code",
   "execution_count": 3,
   "metadata": {
    "ExecuteTime": {
     "end_time": "2024-02-22T10:32:52.404381400Z",
     "start_time": "2024-02-22T10:32:52.394662900Z"
    }
   },
   "outputs": [
    {
     "data": {
      "text/plain": "(24, 10)"
     },
     "execution_count": 3,
     "metadata": {},
     "output_type": "execute_result"
    }
   ],
   "source": [
    "all_agent_current = all_agent_trajs[:, 10]\n",
    "all_agent_current.shape"
   ]
  },
  {
   "cell_type": "code",
   "execution_count": 4,
   "metadata": {
    "ExecuteTime": {
     "end_time": "2024-02-22T10:32:53.060472100Z",
     "start_time": "2024-02-22T10:32:53.037393900Z"
    }
   },
   "outputs": [
    {
     "data": {
      "text/plain": "(24, 10, 10)"
     },
     "execution_count": 4,
     "metadata": {},
     "output_type": "execute_result"
    }
   ],
   "source": [
    "#ground truth for the future 1s,2s,3s can be easily derived by :\n",
    "predict_horizon = 10  #20,30\n",
    "all_gt_future = all_agent_trajs[:, 11:11 + predict_horizon]\n",
    "all_gt_future.shape"
   ]
  },
  {
   "cell_type": "markdown",
   "metadata": {},
   "source": [
    "Index of target agnet to preict"
   ]
  },
  {
   "cell_type": "code",
   "outputs": [
    {
     "data": {
      "text/plain": "(8, 91, 10)"
     },
     "execution_count": 5,
     "metadata": {},
     "output_type": "execute_result"
    }
   ],
   "source": [
    "tracks = info['predict_list']\n",
    "tracks\n",
    "agents_to_predict = all_agent_trajs[tracks]\n",
    "agents_to_predict.shape"
   ],
   "metadata": {
    "collapsed": false,
    "ExecuteTime": {
     "end_time": "2024-02-22T10:32:54.210617800Z",
     "start_time": "2024-02-22T10:32:54.185421300Z"
    }
   },
   "execution_count": 5
  },
  {
   "cell_type": "markdown",
   "metadata": {},
   "source": [
    "The homework should be done on these 8 agents."
   ]
  },
  {
   "cell_type": "markdown",
   "metadata": {},
   "source": [
    "Q1.Using constant velocity model to predict the future (1s,2s,3s) trajectories of the target agent and calculate the ADE and FDE.  "
   ]
  },
  {
   "cell_type": "code",
   "outputs": [
    {
     "name": "stdout",
     "output_type": "stream",
     "text": [
      "trajectory: [[[  693.56744385 -2454.96557617  -109.02783966]\n",
      "  [  693.57897949 -2455.06884766  -108.92783966]\n",
      "  [  693.59051514 -2455.17211914  -108.82783966]\n",
      "  [  693.60205078 -2455.27539062  -108.72783966]\n",
      "  [  693.61358643 -2455.37866211  -108.62783966]\n",
      "  [  693.62512207 -2455.48193359  -108.52783966]\n",
      "  [  693.63665771 -2455.58520508  -108.42783966]\n",
      "  [  693.64819336 -2455.68847656  -108.32783966]\n",
      "  [  693.659729   -2455.79174805  -108.22783966]\n",
      "  [  693.67126465 -2455.89501953  -108.12783966]]\n",
      "\n",
      " [[  647.11364746 -2403.73242188  -108.92222595]\n",
      "  [  647.46795654 -2403.29663086  -108.82222595]\n",
      "  [  647.82226562 -2402.86083984  -108.72222595]\n",
      "  [  648.17657471 -2402.42504883  -108.62222595]\n",
      "  [  648.53088379 -2401.98925781  -108.52222595]\n",
      "  [  648.88519287 -2401.5534668   -108.42222595]\n",
      "  [  649.23950195 -2401.11767578  -108.32222595]\n",
      "  [  649.59381104 -2400.68188477  -108.22222595]\n",
      "  [  649.94812012 -2400.24609375  -108.12222595]\n",
      "  [  650.3024292  -2399.81030273  -108.02222595]]\n",
      "\n",
      " [[  671.640625   -2380.91748047  -109.32131958]\n",
      "  [  671.94085693 -2380.78222656  -109.22131958]\n",
      "  [  672.24108887 -2380.64697266  -109.12131958]\n",
      "  [  672.5413208  -2380.51171875  -109.02131958]\n",
      "  [  672.84155273 -2380.37646484  -108.92131958]\n",
      "  [  673.14178467 -2380.24121094  -108.82131958]\n",
      "  [  673.4420166  -2380.10595703  -108.72131958]\n",
      "  [  673.74224854 -2379.97070312  -108.62131958]\n",
      "  [  674.04248047 -2379.83544922  -108.52131958]\n",
      "  [  674.3427124  -2379.70019531  -108.42131958]]\n",
      "\n",
      " [[  687.29260254 -2372.62597656  -109.64456177]\n",
      "  [  687.29553223 -2371.85571289  -109.54456177]\n",
      "  [  687.29846191 -2371.08544922  -109.44456177]\n",
      "  [  687.3013916  -2370.31518555  -109.34456177]\n",
      "  [  687.30432129 -2369.54492188  -109.24456177]\n",
      "  [  687.30725098 -2368.7746582   -109.14456177]\n",
      "  [  687.31018066 -2368.00439453  -109.04456177]\n",
      "  [  687.31311035 -2367.23413086  -108.94456177]\n",
      "  [  687.31604004 -2366.46386719  -108.84456177]\n",
      "  [  687.31896973 -2365.69360352  -108.74456177]]\n",
      "\n",
      " [[  686.72399902 -2439.42016602  -109.03439331]\n",
      "  [  686.72406006 -2438.4453125   -108.93439331]\n",
      "  [  686.72412109 -2437.47045898  -108.83439331]\n",
      "  [  686.72418213 -2436.49560547  -108.73439331]\n",
      "  [  686.72424316 -2435.52075195  -108.63439331]\n",
      "  [  686.7243042  -2434.54589844  -108.53439331]\n",
      "  [  686.72436523 -2433.57104492  -108.43439331]\n",
      "  [  686.72442627 -2432.59619141  -108.33439331]\n",
      "  [  686.7244873  -2431.62133789  -108.23439331]\n",
      "  [  686.72454834 -2430.64648438  -108.13439331]]\n",
      "\n",
      " [[  637.92932129 -2408.3203125   -108.73114014]\n",
      "  [  638.22467041 -2408.01220703  -108.63114014]\n",
      "  [  638.52001953 -2407.70410156  -108.53114014]\n",
      "  [  638.81536865 -2407.39599609  -108.43114014]\n",
      "  [  639.11071777 -2407.08789062  -108.33114014]\n",
      "  [  639.40606689 -2406.77978516  -108.23114014]\n",
      "  [  639.70141602 -2406.47167969  -108.13114014]\n",
      "  [  639.99676514 -2406.16357422  -108.03114014]\n",
      "  [  640.29211426 -2405.85546875  -107.93114014]\n",
      "  [  640.58746338 -2405.54736328  -107.83114014]]\n",
      "\n",
      " [[  655.79730225 -2387.6875      -109.17694855]\n",
      "  [  656.03198242 -2387.51831055  -109.07694855]\n",
      "  [  656.2666626  -2387.34912109  -108.97694855]\n",
      "  [  656.50134277 -2387.17993164  -108.87694855]\n",
      "  [  656.73602295 -2387.01074219  -108.77694855]\n",
      "  [  656.97070312 -2386.84155273  -108.67694855]\n",
      "  [  657.2053833  -2386.67236328  -108.57694855]\n",
      "  [  657.44006348 -2386.50317383  -108.47694855]\n",
      "  [  657.67474365 -2386.33398438  -108.37694855]\n",
      "  [  657.90942383 -2386.16479492  -108.27694855]]\n",
      "\n",
      " [[  647.07104492 -2395.38110352  -109.03297424]\n",
      "  [  647.21917725 -2395.2175293   -108.93297424]\n",
      "  [  647.36730957 -2395.05395508  -108.83297424]\n",
      "  [  647.51544189 -2394.89038086  -108.73297424]\n",
      "  [  647.66357422 -2394.72680664  -108.63297424]\n",
      "  [  647.81170654 -2394.56323242  -108.53297424]\n",
      "  [  647.95983887 -2394.3996582   -108.43297424]\n",
      "  [  648.10797119 -2394.23608398  -108.33297424]\n",
      "  [  648.25610352 -2394.07250977  -108.23297424]\n",
      "  [  648.40423584 -2393.90893555  -108.13297424]]]\n",
      "ADEs: [1.70424519 1.32610549 1.4709265  1.37529689 1.37153248 0.953297\n",
      " 0.79554534 0.61789349]\n",
      "FDEs: [0.89395493 1.93041713 2.52134856 2.01035643 1.64030175 1.42135522\n",
      " 1.17363898 1.03964676]\n",
      "Mean ADE: 1.2018552966430336\n",
      "Mean FDE: 1.5788774698504922\n"
     ]
    }
   ],
   "source": [
    "# constant velocity model\n",
    "def calculation(gt, pred):\n",
    "    ADE = np.mean(np.linalg.norm(gt - pred, axis=2), axis=1)\n",
    "    FDE = np.linalg.norm(gt[:, -1] - pred[:, -1], axis=1)\n",
    "    return ADE, FDE\n",
    "\n",
    "\n",
    "def CVmodel(current, predict_horizon):\n",
    "    num_agents = current.shape[0]\n",
    "    future_states = np.zeros((num_agents, predict_horizon, 10))\n",
    "    future_states[:, 0] = current\n",
    "    for i in range(1, predict_horizon):\n",
    "        future_states[:, i, 0] = future_states[:, i - 1, 0] + future_states[:, i - 1, 7] * 0.1\n",
    "        future_states[:, i, 1] = future_states[:, i - 1, 1] + future_states[:, i - 1, 8] * 0.1\n",
    "        future_states[:, i, 2] = future_states[:, i - 1, 2] + future_states[:, i - 1, 9] * 0.1\n",
    "        future_states[:, i, 3:] = current[:, 3:]\n",
    "    return future_states\n",
    "\n",
    "\n",
    "pred= CVmodel(all_agent_current[tracks], predict_horizon)\n",
    "ADEs, FDEs = calculation(all_gt_future[tracks], pred)\n",
    "\n",
    "print('trajectories:', pred[:,:,0:3])\n",
    "print('ADEs:', ADEs)\n",
    "print('FDEs:', FDEs)"
   ],
   "metadata": {
    "collapsed": false,
    "ExecuteTime": {
     "end_time": "2024-02-22T10:32:56.858000500Z",
     "start_time": "2024-02-22T10:32:56.830605200Z"
    }
   },
   "execution_count": 6
  },
  {
   "cell_type": "markdown",
   "metadata": {},
   "source": [
    "Q2.Using constant acceleration model to predict the future (1s,2s,3s) trajectories of the target agent and calculate the ADE and FDE. "
   ]
  },
  {
   "cell_type": "code",
   "execution_count": 7,
   "metadata": {
    "ExecuteTime": {
     "end_time": "2024-02-22T10:32:58.680723600Z",
     "start_time": "2024-02-22T10:32:58.651633200Z"
    }
   },
   "outputs": [
    {
     "name": "stdout",
     "output_type": "stream",
     "text": [
      "trajectory: [[[  693.56744385 -2454.96557617  -109.02783966]\n",
      "  [  693.57955627 -2455.07401123  -108.92283966]\n",
      "  [  693.5916687  -2455.18244629  -108.81783966]\n",
      "  [  693.60378113 -2455.29088135  -108.71283966]\n",
      "  [  693.61589355 -2455.39931641  -108.60783966]\n",
      "  [  693.62800598 -2455.50775146  -108.50283966]\n",
      "  [  693.64011841 -2455.61618652  -108.39783966]\n",
      "  [  693.65223083 -2455.72462158  -108.29283966]\n",
      "  [  693.66434326 -2455.83305664  -108.18783966]\n",
      "  [  693.67645569 -2455.9414917   -108.08283966]]\n",
      "\n",
      " [[  647.11364746 -2403.73242188  -108.92222595]\n",
      "  [  647.485672   -2403.27484131  -108.81722595]\n",
      "  [  647.85769653 -2402.81726074  -108.71222595]\n",
      "  [  648.22972107 -2402.35968018  -108.60722595]\n",
      "  [  648.60174561 -2401.90209961  -108.50222595]\n",
      "  [  648.97377014 -2401.44451904  -108.39722595]\n",
      "  [  649.34579468 -2400.98693848  -108.29222595]\n",
      "  [  649.71781921 -2400.52935791  -108.18722595]\n",
      "  [  650.08984375 -2400.07177734  -108.08222595]\n",
      "  [  650.46186829 -2399.61419678  -107.97722595]]\n",
      "\n",
      " [[  671.640625   -2380.91748047  -109.32131958]\n",
      "  [  671.95586853 -2380.77546387  -109.21631958]\n",
      "  [  672.27111206 -2380.63344727  -109.11131958]\n",
      "  [  672.58635559 -2380.49143066  -109.00631958]\n",
      "  [  672.90159912 -2380.34941406  -108.90131958]\n",
      "  [  673.21684265 -2380.20739746  -108.79631958]\n",
      "  [  673.53208618 -2380.06538086  -108.69131958]\n",
      "  [  673.84732971 -2379.92336426  -108.58631958]\n",
      "  [  674.16257324 -2379.78134766  -108.48131958]\n",
      "  [  674.47781677 -2379.63933105  -108.37631958]]\n",
      "\n",
      " [[  687.29260254 -2372.62597656  -109.64456177]\n",
      "  [  687.29567871 -2371.81719971  -109.53956177]\n",
      "  [  687.29875488 -2371.00842285  -109.43456177]\n",
      "  [  687.30183105 -2370.199646    -109.32956177]\n",
      "  [  687.30490723 -2369.39086914  -109.22456177]\n",
      "  [  687.3079834  -2368.58209229  -109.11956177]\n",
      "  [  687.31105957 -2367.77331543  -109.01456177]\n",
      "  [  687.31413574 -2366.96453857  -108.90956177]\n",
      "  [  687.31721191 -2366.15576172  -108.80456177]\n",
      "  [  687.32028809 -2365.34698486  -108.69956177]]\n",
      "\n",
      " [[  686.72399902 -2439.42016602  -109.03439331]\n",
      "  [  686.72406311 -2438.39656982  -108.92939331]\n",
      "  [  686.7241272  -2437.37297363  -108.82439331]\n",
      "  [  686.72419128 -2436.34937744  -108.71939331]\n",
      "  [  686.72425537 -2435.32578125  -108.61439331]\n",
      "  [  686.72431946 -2434.30218506  -108.50939331]\n",
      "  [  686.72438354 -2433.27858887  -108.40439331]\n",
      "  [  686.72444763 -2432.25499268  -108.29939331]\n",
      "  [  686.72451172 -2431.23139648  -108.19439331]\n",
      "  [  686.72457581 -2430.20780029  -108.08939331]]\n",
      "\n",
      " [[  637.92932129 -2408.3203125   -108.73114014]\n",
      "  [  638.23943787 -2407.99680176  -108.62614014]\n",
      "  [  638.54955444 -2407.67329102  -108.52114014]\n",
      "  [  638.85967102 -2407.34978027  -108.41614014]\n",
      "  [  639.1697876  -2407.02626953  -108.31114014]\n",
      "  [  639.47990417 -2406.70275879  -108.20614014]\n",
      "  [  639.79002075 -2406.37924805  -108.10114014]\n",
      "  [  640.10013733 -2406.0557373   -107.99614014]\n",
      "  [  640.41025391 -2405.73222656  -107.89114014]\n",
      "  [  640.72037048 -2405.40871582  -107.78614014]]\n",
      "\n",
      " [[  655.79730225 -2387.6875      -109.17694855]\n",
      "  [  656.04371643 -2387.50985107  -109.07194855]\n",
      "  [  656.29013062 -2387.33220215  -108.96694855]\n",
      "  [  656.5365448  -2387.15455322  -108.86194855]\n",
      "  [  656.78295898 -2386.9769043   -108.75694855]\n",
      "  [  657.02937317 -2386.79925537  -108.65194855]\n",
      "  [  657.27578735 -2386.62160645  -108.54694855]\n",
      "  [  657.52220154 -2386.44395752  -108.44194855]\n",
      "  [  657.76861572 -2386.26630859  -108.33694855]\n",
      "  [  658.01502991 -2386.08865967  -108.23194855]]\n",
      "\n",
      " [[  647.07104492 -2395.38110352  -109.03297424]\n",
      "  [  647.22658386 -2395.20935059  -108.92797424]\n",
      "  [  647.3821228  -2395.03759766  -108.82297424]\n",
      "  [  647.53766174 -2394.86584473  -108.71797424]\n",
      "  [  647.69320068 -2394.6940918   -108.61297424]\n",
      "  [  647.84873962 -2394.52233887  -108.50797424]\n",
      "  [  648.00427856 -2394.35058594  -108.40297424]\n",
      "  [  648.1598175  -2394.17883301  -108.29797424]\n",
      "  [  648.31535645 -2394.00708008  -108.19297424]\n",
      "  [  648.47089539 -2393.83532715  -108.08797424]]]\n",
      "ADEs: [1.72107783 1.25772581 1.44284474 1.26284545 1.21551318 0.91472292\n",
      " 0.81881855 0.61530406]\n",
      "FDEs: [0.93603186 1.82370423 2.46506551 1.79641716 1.38275275 1.36413955\n",
      " 1.24337501 1.04648616]\n",
      "Mean ADE: 1.156106568474026\n",
      "Mean FDE: 1.5072465280877916\n"
     ]
    }
   ],
   "source": [
    "# constant acceleration model\n",
    "def CAmodel(current, predict_horizon):\n",
    "    num_agents = current.shape[0]\n",
    "    future_states = np.zeros((num_agents, predict_horizon, 10))\n",
    "    future_states[:, 0] = current\n",
    "    for i in range(1, predict_horizon):\n",
    "        future_states[:, i, 0] = future_states[:, i - 1, 0] + future_states[:, i - 1, 7] * 0.1 + 0.5 * future_states[:,\n",
    "                                                                                                       i - 1,\n",
    "                                                                                                       7] * 0.1 ** 2\n",
    "        future_states[:, i, 1] = future_states[:, i - 1, 1] + future_states[:, i - 1, 8] * 0.1 + 0.5 * future_states[:,\n",
    "                                                                                                       i - 1,\n",
    "                                                                                                       8] * 0.1 ** 2\n",
    "        future_states[:, i, 2] = future_states[:, i - 1, 2] + future_states[:, i - 1, 9] * 0.1 + 0.5 * future_states[:,\n",
    "                                                                                                       i - 1,\n",
    "                                                                                                       9] * 0.1 ** 2\n",
    "        future_states[:, i, 3:] = current[:, 3:]\n",
    "    return future_states\n",
    "\n",
    "\n",
    "pred = CAmodel(all_agent_current[tracks], predict_horizon)\n",
    "ADEs, FDEs = calculation(all_gt_future[tracks], pred)\n",
    "\n",
    "print('trajectories:', pred[:,:,0:3])\n",
    "print('ADEs:', ADEs)\n",
    "print('FDEs:', FDEs)"
   ]
  },
  {
   "cell_type": "markdown",
   "metadata": {},
   "source": [
    "Using Constant Turn Rate and Velocity(CTRV) model to predict the future (1s,2s,3s) trajectories of the target agent and calculate the ADE and FDE. "
   ]
  },
  {
   "cell_type": "code",
   "execution_count": 8,
   "metadata": {
    "ExecuteTime": {
     "end_time": "2024-02-22T10:33:00.234006500Z",
     "start_time": "2024-02-22T10:33:00.202749300Z"
    }
   },
   "outputs": [
    {
     "name": "stdout",
     "output_type": "stream",
     "text": [
      "trajectory: [[[  693.56744385 -2454.96557617  -109.02783966]\n",
      "  [  693.56790496 -2455.06948891  -109.02783966]\n",
      "  [  693.56836607 -2455.17340166  -109.02783966]\n",
      "  [  693.56882718 -2455.2773144   -109.02783966]\n",
      "  [  693.56928829 -2455.38122714  -109.02783966]\n",
      "  [  693.56974941 -2455.48513988  -109.02783966]\n",
      "  [  693.57021052 -2455.58905262  -109.02783966]\n",
      "  [  693.57067163 -2455.69296537  -109.02783966]\n",
      "  [  693.57113274 -2455.79687811  -109.02783966]\n",
      "  [  693.57159385 -2455.90079085  -109.02783966]]\n",
      "\n",
      " [[  647.11364746 -2403.73242188  -108.92222595]\n",
      "  [  647.46702444 -2403.29587469  -108.92222595]\n",
      "  [  647.82040142 -2402.8593275   -108.92222595]\n",
      "  [  648.1737784  -2402.42278032  -108.92222595]\n",
      "  [  648.52715538 -2401.98623313  -108.92222595]\n",
      "  [  648.88053236 -2401.54968595  -108.92222595]\n",
      "  [  649.23390934 -2401.11313876  -108.92222595]\n",
      "  [  649.58728632 -2400.67659157  -108.92222595]\n",
      "  [  649.94066329 -2400.24004439  -108.92222595]\n",
      "  [  650.29404027 -2399.8034972   -108.92222595]]\n",
      "\n",
      " [[  671.640625   -2380.91748047  -109.32131958]\n",
      "  [  671.94661633 -2380.79581643  -109.32131958]\n",
      "  [  672.25260767 -2380.6741524   -109.32131958]\n",
      "  [  672.558599   -2380.55248837  -109.32131958]\n",
      "  [  672.86459033 -2380.43082433  -109.32131958]\n",
      "  [  673.17058167 -2380.3091603   -109.32131958]\n",
      "  [  673.476573   -2380.18749626  -109.32131958]\n",
      "  [  673.78256433 -2380.06583223  -109.32131958]\n",
      "  [  674.08855566 -2379.9441682   -109.32131958]\n",
      "  [  674.394547   -2379.82250416  -109.32131958]]\n",
      "\n",
      " [[  687.29260254 -2372.62597656  -109.64456177]\n",
      "  [  687.29076907 -2371.8557095   -109.64456177]\n",
      "  [  687.28893561 -2371.08544244  -109.64456177]\n",
      "  [  687.28710214 -2370.31517538  -109.64456177]\n",
      "  [  687.28526867 -2369.54490832  -109.64456177]\n",
      "  [  687.28343521 -2368.77464126  -109.64456177]\n",
      "  [  687.28160174 -2368.00437419  -109.64456177]\n",
      "  [  687.27976827 -2367.23410713  -109.64456177]\n",
      "  [  687.27793481 -2366.46384007  -109.64456177]\n",
      "  [  687.27610134 -2365.69357301  -109.64456177]]\n",
      "\n",
      " [[  686.72399902 -2439.42016602  -109.03439331]\n",
      "  [  686.71534551 -2438.44535091  -109.03439331]\n",
      "  [  686.70669201 -2437.4705358   -109.03439331]\n",
      "  [  686.6980385  -2436.49572069  -109.03439331]\n",
      "  [  686.68938499 -2435.52090558  -109.03439331]\n",
      "  [  686.68073148 -2434.54609047  -109.03439331]\n",
      "  [  686.67207797 -2433.57127536  -109.03439331]\n",
      "  [  686.66342446 -2432.59646025  -109.03439331]\n",
      "  [  686.65477095 -2431.62164514  -109.03439331]\n",
      "  [  686.64611744 -2430.64683003  -109.03439331]]\n",
      "\n",
      " [[  637.92932129 -2408.3203125   -108.73114014]\n",
      "  [  638.22964524 -2408.01705418  -108.73114014]\n",
      "  [  638.52996919 -2407.71379586  -108.73114014]\n",
      "  [  638.83029314 -2407.41053754  -108.73114014]\n",
      "  [  639.13061708 -2407.10727922  -108.73114014]\n",
      "  [  639.43094103 -2406.8040209   -108.73114014]\n",
      "  [  639.73126498 -2406.50076258  -108.73114014]\n",
      "  [  640.03158893 -2406.19750426  -108.73114014]\n",
      "  [  640.33191288 -2405.89424594  -108.73114014]\n",
      "  [  640.63223683 -2405.59098761  -108.73114014]]\n",
      "\n",
      " [[  655.79730225 -2387.6875      -109.17694855]\n",
      "  [  656.02541658 -2387.50955702  -109.17694855]\n",
      "  [  656.25353092 -2387.33161403  -109.17694855]\n",
      "  [  656.48164526 -2387.15367105  -109.17694855]\n",
      "  [  656.7097596  -2386.97572807  -109.17694855]\n",
      "  [  656.93787393 -2386.79778509  -109.17694855]\n",
      "  [  657.16598827 -2386.6198421   -109.17694855]\n",
      "  [  657.39410261 -2386.44189912  -109.17694855]\n",
      "  [  657.62221695 -2386.26395614  -109.17694855]\n",
      "  [  657.85033128 -2386.08601316  -109.17694855]]\n",
      "\n",
      " [[  647.07104492 -2395.38110352  -109.03297424]\n",
      "  [  647.21739588 -2395.21593358  -109.03297424]\n",
      "  [  647.36374684 -2395.05076365  -109.03297424]\n",
      "  [  647.5100978  -2394.88559371  -109.03297424]\n",
      "  [  647.65644876 -2394.72042378  -109.03297424]\n",
      "  [  647.80279972 -2394.55525384  -109.03297424]\n",
      "  [  647.94915067 -2394.39008391  -109.03297424]\n",
      "  [  648.09550163 -2394.22491397  -109.03297424]\n",
      "  [  648.24185259 -2394.05974404  -109.03297424]\n",
      "  [  648.38820355 -2393.8945741   -109.03297424]]]\n",
      "ADEs: [2.00254886 1.52708511 1.69204273 1.59624883 1.54927412 1.21125043\n",
      " 1.12175275 0.99235184]\n",
      "FDEs: [1.00890405 1.93099982 2.56297444 2.05510519 1.61665307 1.40957432\n",
      " 1.23133194 1.1034216 ]\n",
      "Mean ADE: 1.4615693328111576\n",
      "Mean FDE: 1.6148705528778038\n"
     ]
    }
   ],
   "source": [
    "# CTRV model\n",
    "def CTRVmodel(current_state, predict_horizon, omega):\n",
    "    # Assuming the turn rate omega is given for each agent\n",
    "    num_agents = current_state.shape[0]\n",
    "    future_states = np.zeros((num_agents, predict_horizon, 10))\n",
    "    dt = 0.1  # Time step in seconds\n",
    "    for agent in range(num_agents):\n",
    "        # Initialize the state for the first prediction horizon\n",
    "        future_states[agent, 0, :] = current_state[agent]\n",
    "        for i in range(1, predict_horizon):\n",
    "            theta = future_states[agent, i - 1, 6]  # Current heading\n",
    "            v = np.sqrt(current_state[agent, 7] ** 2 + current_state[agent, 8] ** 2)  # Velocity magnitude\n",
    "            # Check if the turn rate is effectively zero\n",
    "            if np.abs(omega[agent]) < 1e-5:  # Consider as straight motion\n",
    "                dx = v * np.cos(theta) * dt\n",
    "                dy = v * np.sin(theta) * dt\n",
    "            else:  # Turning motion\n",
    "                dx = (v / omega[agent]) * (np.sin(theta + omega[agent] * dt) - np.sin(theta))\n",
    "                dy = (v / omega[agent]) * (-np.cos(theta + omega[agent] * dt) + np.cos(theta))\n",
    "            # Update position\n",
    "            future_states[agent, i, 0] = future_states[agent, i - 1, 0] + dx\n",
    "            future_states[agent, i, 1] = future_states[agent, i - 1, 1] + dy\n",
    "            # Assuming Z, bounding box, and other parameters remain constant for simplicity\n",
    "            future_states[agent, i, 2:9] = current_state[agent, 2:9]\n",
    "            # Update heading\n",
    "            future_states[agent, i, 6] = theta + omega[agent] * dt\n",
    "\n",
    "    return future_states\n",
    "\n",
    "\n",
    "omega = np.zeros(all_agent_current.shape[0])  # Assuming zero turn rate for all agents\n",
    "pred = CTRVmodel(all_agent_current[tracks], predict_horizon, omega)\n",
    "ADEs, FDEs = calculation(all_gt_future[tracks], pred)\n",
    "\n",
    "print('trajectories:', pred[:,:,0:3])\n",
    "print('ADEs:', ADEs)\n",
    "print('FDEs:', FDEs)"
   ]
  },
  {
   "cell_type": "markdown",
   "metadata": {},
   "source": [
    "Briefly discuss the observations from your results. "
   ]
  },
  {
   "cell_type": "markdown",
   "metadata": {},
   "source": [
    "If you want to visualize the scenario here are some simple demo codes for you.\n",
    "\n",
    "    'TYPE_FREEWAY': 1,\n",
    "    'TYPE_SURFACE_STREET': 2,\n",
    "    'TYPE_BIKE_LANE': 3,\n",
    "\n",
    "    # for roadline\n",
    "    'TYPE_UNKNOWN': -1,\n",
    "    'TYPE_BROKEN_SINGLE_WHITE': 6,\n",
    "    'TYPE_SOLID_SINGLE_WHITE': 7,\n",
    "    'TYPE_SOLID_DOUBLE_WHITE': 8,\n",
    "    'TYPE_BROKEN_SINGLE_YELLOW': 9,\n",
    "    'TYPE_BROKEN_DOUBLE_YELLOW': 10,\n",
    "    'TYPE_SOLID_SINGLE_YELLOW': 11,\n",
    "    'TYPE_SOLID_DOUBLE_YELLOW': 12,\n",
    "    'TYPE_PASSING_DOUBLE_YELLOW': 13,\n",
    "\n",
    "    # for roadedge\n",
    "    'TYPE_ROAD_EDGE_BOUNDARY': 15,\n",
    "    'TYPE_ROAD_EDGE_MEDIAN': 16,\n",
    "\n",
    "    # for stopsign\n",
    "    'TYPE_STOP_SIGN': 17,\n",
    "\n",
    "    # for crosswalk\n",
    "    'TYPE_CROSSWALK': 18,\n",
    "\n",
    "    # for speed bump\n",
    "    'TYPE_SPEED_BUMP': 19,\n",
    "    \n",
    "    # for driveway\n",
    "    'TYPE_DRIVEWAY': 20,"
   ]
  },
  {
   "cell_type": "code",
   "execution_count": 9,
   "metadata": {
    "ExecuteTime": {
     "end_time": "2024-02-22T10:33:03.645824100Z",
     "start_time": "2024-02-22T10:33:03.558415900Z"
    }
   },
   "outputs": [],
   "source": [
    "sdc_current_state = all_agent_trajs[tracks[0]][11]\n",
    "ax = plt.gca()\n",
    "fig = plt.gcf()\n",
    "fig.set_facecolor('xkcd:grey')\n",
    "ax.set_facecolor('xkcd:grey')\n",
    "for polyline in road_polylines:\n",
    "    map_type = polyline[0, 6]\n",
    "    if map_type == 6:\n",
    "        plt.plot(polyline[:, 0], polyline[:, 1], 'w', linestyle='dashed', linewidth=1)\n",
    "    elif map_type == 7:\n",
    "        plt.plot(polyline[:, 0], polyline[:, 1], 'w', linestyle='solid', linewidth=1)\n",
    "    elif map_type == 8:\n",
    "        plt.plot(polyline[:, 0], polyline[:, 1], 'w', linestyle='solid', linewidth=1)\n",
    "    elif map_type == 9:\n",
    "        plt.plot(polyline[:, 0], polyline[:, 1], 'xkcd:yellow', linestyle='dashed', linewidth=1)\n",
    "    elif map_type == 10:\n",
    "        plt.plot(polyline[:, 0], polyline[:, 1], 'xkcd:yellow', linestyle='dashed', linewidth=1)\n",
    "    elif map_type == 11:\n",
    "        plt.plot(polyline[:, 0], polyline[:, 1], 'xkcd:yellow', linestyle='solid', linewidth=1)\n",
    "    elif map_type == 12:\n",
    "        plt.plot(polyline[:, 0], polyline[:, 1], 'xkcd:yellow', linestyle='solid', linewidth=1)\n",
    "    elif map_type == 13:\n",
    "        plt.plot(polyline[:, 0], polyline[:, 1], 'xkcd:yellow', linestyle='dotted', linewidth=1)\n",
    "    elif map_type == 15:\n",
    "        plt.plot(polyline[:, 0], polyline[:, 1], 'k', linewidth=1)\n",
    "    elif map_type == 16:\n",
    "        plt.plot(polyline[:, 0], polyline[:, 1], 'k', linewidth=1)\n",
    "ax.axis([-70 + sdc_current_state[0], 70 + sdc_current_state[0], -70 + sdc_current_state[1], 70 + sdc_current_state[1]])\n",
    "\n",
    "filename = './viz.png'\n",
    "plt.savefig(filename)\n",
    "plt.close()"
   ]
  }
 ],
 "metadata": {
  "kernelspec": {
   "display_name": "DgxEnv",
   "language": "python",
   "name": "python3"
  },
  "language_info": {
   "codemirror_mode": {
    "name": "ipython",
    "version": 3
   },
   "file_extension": ".py",
   "mimetype": "text/x-python",
   "name": "python",
   "nbconvert_exporter": "python",
   "pygments_lexer": "ipython3",
   "version": "3.8.16"
  }
 },
 "nbformat": 4,
 "nbformat_minor": 2
}
