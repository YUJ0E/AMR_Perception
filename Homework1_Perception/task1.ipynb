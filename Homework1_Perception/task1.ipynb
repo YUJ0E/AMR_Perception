{
 "cells": [
  {
   "cell_type": "markdown",
   "metadata": {},
   "source": [
    "## ME5413: Autonomous Mobile Robot  \n",
    "\n",
    "### Homework 1: Perception  \n",
    "Due date: 22 February 2024 (Thurs) - 2359 \n"
   ]
  },
  {
   "cell_type": "markdown",
   "metadata": {},
   "source": [
    "### Task 1.1 Single-Object Tracking "
   ]
  },
  {
   "cell_type": "code",
   "execution_count": 1,
   "metadata": {
    "ExecuteTime": {
     "end_time": "2024-02-22T14:14:37.656325800Z",
     "start_time": "2024-02-22T14:14:37.273995800Z"
    }
   },
   "outputs": [],
   "source": [
    "# load the necessary libraries\n",
    "import cv2\n",
    "import matplotlib.pyplot as plt\n",
    "import numpy as np\n",
    "import os\n",
    "import sys"
   ]
  },
  {
   "cell_type": "markdown",
   "source": [
    "Load data from the data folder"
   ],
   "metadata": {
    "collapsed": false
   }
  },
  {
   "cell_type": "code",
   "execution_count": 2,
   "outputs": [],
   "source": [
    "#load data from the data folder\n",
    "seq_num = 1\n",
    "file_path = f'./data/Task 1/seq_{seq_num}'\n",
    "\n",
    "# load images from img folder\n",
    "img_path = os.path.join(file_path, 'img')\n",
    "img_list = os.listdir(img_path)\n",
    "img_list.sort()\n",
    "\n",
    "# load firsttrack file\n",
    "t_1 = np.loadtxt(os.path.join(file_path, 'firsttrack.txt'),\n",
    "                 delimiter=',')\n",
    "t_1 = t_1.astype(int)"
   ],
   "metadata": {
    "collapsed": false,
    "ExecuteTime": {
     "end_time": "2024-02-22T14:14:37.671713700Z",
     "start_time": "2024-02-22T14:14:37.658427700Z"
    }
   }
  },
  {
   "cell_type": "markdown",
   "metadata": {},
   "source": [
    "Using Template Matching"
   ]
  },
  {
   "cell_type": "code",
   "execution_count": 3,
   "metadata": {
    "ExecuteTime": {
     "end_time": "2024-02-22T14:14:44.638249Z",
     "start_time": "2024-02-22T14:14:37.677084700Z"
    }
   },
   "outputs": [],
   "source": [
    "# get the template from the first image\n",
    "x_0, y_0, w, h = t_1[0], t_1[1], t_1[2], t_1[3]\n",
    "img = cv2.imread(str(os.path.join(img_path, img_list[0])))\n",
    "temp = img[y_0:y_0 + h, x_0:x_0 + w]\n",
    "\n",
    "# create a saving folder\n",
    "saving_path = f'Task 1/seq_{seq_num}'\n",
    "if not os.path.exists(saving_path):\n",
    "    os.makedirs(saving_path)\n",
    "\n",
    "# set a box\n",
    "box_coord=np.zeros((len(img_list),4))\n",
    "box_coord[0,:]=[x_0, y_0,w, h]\n",
    "\n",
    "# create a list to store the tracking results\n",
    "Results_TempMatch = []\n",
    "\n",
    "# open the saving file\n",
    "f = open(f'Task 1/seq_{seq_num}/Results_TempMatch.txt', 'w')\n",
    "\n",
    "i = 0\n",
    "for img_name in img_list:\n",
    "    img = cv2.imread(str(os.path.join(img_path, img_name)))\n",
    "    # set the window\n",
    "    window_X0 = max(int(box_coord[i, 0] - w * 0.46), 0)\n",
    "    window_Y0 = max(int(box_coord[i, 1] - h * 0.46), 0)\n",
    "    window_X1 = min(int(box_coord[i, 0] + w * 1.92), img.shape[1])\n",
    "    window_Y1 = min(int(box_coord[i, 1] + h * 1.92), img.shape[0])\n",
    "    \n",
    "    # Set the region of interest (roi)\n",
    "    roi_window = img[window_Y0:window_Y1, window_X0:window_X1]\n",
    "    # apply the template matching\n",
    "    res = cv2.matchTemplate(roi_window, temp, cv2.TM_CCOEFF_NORMED)\n",
    "    min_val, max_val, min_loc, max_loc = cv2.minMaxLoc(res)\n",
    "    top_left = max_loc\n",
    "    bottom_right = (top_left[0] + w, top_left[1] + h)\n",
    "    Results_TempMatch.append([window_X0 + top_left[0], window_Y0 + top_left[1], window_X0 + bottom_right[0], window_Y0 + bottom_right[1]])\n",
    "    x, y, x2, y2 = Results_TempMatch[-1]\n",
    "    f.write(str(x) + ',' + str(y) + ',' + str(w) + ',' + str(h) + '\\n')\n",
    "    i += 1\n",
    "    if i<= 99:\n",
    "        box_coord[i] = [x, y, w, h]\n",
    "    cv2.rectangle(img, (x, y), (x2, y2), (0, 255, 0), 2)\n",
    "    cv2.imshow('img:', img)\n",
    "    cv2.waitKey(30)\n",
    "    \n",
    "    # check if the user pressed the 'q' key\n",
    "    if cv2.waitKey(1) & 0xFF == ord('q'):\n",
    "        break\n",
    "f.close()\n",
    "cv2.destroyAllWindows()"
   ]
  },
  {
   "cell_type": "markdown",
   "metadata": {},
   "source": [
    "Using Kalman Filter"
   ]
  },
  {
   "cell_type": "code",
   "execution_count": 4,
   "metadata": {
    "ExecuteTime": {
     "end_time": "2024-02-22T14:14:51.036802700Z",
     "start_time": "2024-02-22T14:14:44.621749700Z"
    }
   },
   "outputs": [
    {
     "name": "stderr",
     "output_type": "stream",
     "text": [
      "C:\\Users\\ZHUOYUAN\\AppData\\Local\\Temp\\ipykernel_35972\\1555080733.py:55: DeprecationWarning: Conversion of an array with ndim > 0 to a scalar is deprecated, and will error in future. Ensure you extract a single element from your array before performing this operation. (Deprecated NumPy 1.25.)\n",
      "  box_coord_kalman[n, 0] = updated_state[0]\n",
      "C:\\Users\\ZHUOYUAN\\AppData\\Local\\Temp\\ipykernel_35972\\1555080733.py:56: DeprecationWarning: Conversion of an array with ndim > 0 to a scalar is deprecated, and will error in future. Ensure you extract a single element from your array before performing this operation. (Deprecated NumPy 1.25.)\n",
      "  box_coord_kalman[n, 1] = updated_state[1]\n"
     ]
    }
   ],
   "source": [
    "# get the template from the first image\n",
    "x_0, y_0, w, h = t_1[0], t_1[1], t_1[2], t_1[3]\n",
    "img = cv2.imread(str(os.path.join(img_path, img_list[0])))\n",
    "temp = img[y_0:y_0 + h, x_0:x_0 + w]\n",
    "\n",
    "# initialize the kalman filter\n",
    "kalman = cv2.KalmanFilter(4, 2)\n",
    "kalman.measurementMatrix = np.array([[1, 0, 0, 0], [0, 1, 0, 0]], np.float32)\n",
    "kalman.transitionMatrix = np.array([[1, 0, 1, 0], [0, 1, 0, 1], [0, 0, 1, 0], [0, 0, 0, 1]], np.float32)\n",
    "kalman.processNoiseCov = np.eye(4, dtype=np.float32) * 0.5\n",
    "# Measurement noise covariance\n",
    "kalman.measurementNoiseCov = np.eye(2, dtype=np.float32) * 0.005 \n",
    "\n",
    "# create a list to store the tracking results\n",
    "Results_TempMatch_K = []\n",
    "Results_Kalman = []\n",
    "\n",
    "# create a list to store the tracking results\n",
    "tracking_results_KF = []\n",
    "f = open(f'Task 1/seq_{seq_num}/Results_Kalman.txt', 'w')\n",
    "\n",
    "# set a box for kalman\n",
    "box_coord_kalman=np.zeros((len(img_list),4))\n",
    "box_coord_kalman[0,:]=[x_0, y_0,w, h]\n",
    "\n",
    "i = 0\n",
    "for img_name in img_list:\n",
    "    img = cv2.imread(str(os.path.join(img_path, img_name)))\n",
    "    # set the window\n",
    "    window_X0 = max(int(box_coord_kalman[i, 0] - w * 0.46), 0)\n",
    "    window_Y0 = max(int(box_coord_kalman[i, 1] - h * 0.46), 0)\n",
    "    window_X1 = min(int(box_coord_kalman[i, 0] + w * 1.92), img.shape[1])\n",
    "    window_Y1 = min(int(box_coord_kalman[i, 1] + h * 1.92), img.shape[0])\n",
    "    \n",
    "    # Set the region of interest (roi)\n",
    "    roi_window = img[window_Y0:window_Y1, window_X0:window_X1]\n",
    "    # apply the template matching\n",
    "    res = cv2.matchTemplate(roi_window, temp, cv2.TM_CCOEFF_NORMED)\n",
    "    min_val, max_val, min_loc, max_loc = cv2.minMaxLoc(res)\n",
    "    top_left = max_loc\n",
    "    bottom_right = (top_left[0] + w, top_left[1] + h)\n",
    "    Results_TempMatch_K.append([top_left[0], top_left[1], bottom_right[0], bottom_right[1]])\n",
    "    x, y, x2, y2 = Results_TempMatch_K[-1]\n",
    "    i += 1\n",
    "    if i<= 99:\n",
    "        box_coord_kalman[i] = [window_X0 +x, window_Y0 +y, w, h]\n",
    "    measurement = np.array([window_X0 + x, window_Y0 + y], np.float32)\n",
    "    \n",
    "        # Predict\n",
    "    predicted = kalman.predict()\n",
    "    # Update\n",
    "    kalman.correct(measurement)\n",
    "    updated_state = kalman.statePost\n",
    "    n = i-1\n",
    "    box_coord_kalman[n, 0] = updated_state[0]\n",
    "    box_coord_kalman[n, 1] = updated_state[1]\n",
    "    start_point = (int(box_coord_kalman[n, 0]), int(box_coord_kalman[n, 1]))\n",
    "    end_point = (\n",
    "        int(box_coord_kalman[n, 0] + box_coord_kalman[n, 2]),\n",
    "        int(box_coord_kalman[n, 1] + box_coord_kalman[n, 3]),\n",
    "    )\n",
    "    Results_Kalman.append([int(box_coord_kalman[n, 0]), int(box_coord_kalman[n, 1]), int(box_coord_kalman[n, 0])+w, int(box_coord_kalman[n, 1])+h])\n",
    "    cv2.rectangle(img, start_point, end_point, (0, 255, 0), 2)\n",
    "    f.write(str(int(box_coord_kalman[n, 0])) + ',' + str(int(box_coord_kalman[n, 1])) + ',' + str(w) + ',' + str(h) + '\\n')\n",
    "    cv2.imshow('img:', img)\n",
    "    cv2.waitKey(30)\n",
    "    \n",
    "    # check if the user pressed the 'q' key\n",
    "    if cv2.waitKey(1) & 0xFF == ord('q'):\n",
    "        break\n",
    "f.close()\n",
    "cv2.destroyAllWindows()"
   ]
  },
  {
   "cell_type": "markdown",
   "source": [
    "Some other standard OpenCV methods"
   ],
   "metadata": {
    "collapsed": false
   }
  },
  {
   "cell_type": "code",
   "execution_count": 5,
   "outputs": [],
   "source": [
    "# list some methods provided by opencv\n",
    "# Set up tracker\n",
    "tracker_types = ['BOOSTING', 'MIL', 'KCF', 'TLD', 'MEDIANFLOW', 'GOTURN', 'MOSSE', 'CSRT']\n",
    "tracker_type = tracker_types[2]\n",
    "\n",
    "if tracker_type == 'BOOSTING':\n",
    "    tracker = cv2.legacy.TrackerBoosting_create()\n",
    "if tracker_type == 'MIL':\n",
    "    tracker = cv2.TrackerMIL_create()\n",
    "if tracker_type == 'KCF':\n",
    "    tracker = cv2.TrackerKCF_create()\n",
    "if tracker_type == 'TLD':\n",
    "    tracker = cv2.legacy.TrackerTLD_create()\n",
    "if tracker_type == 'MEDIANFLOW':\n",
    "    tracker = cv2.legacy.TrackerMedianFlow_create()\n",
    "if tracker_type == 'GOTURN':\n",
    "    tracker = cv2.TrackerGOTURN_create()\n",
    "if tracker_type == 'MOSSE':\n",
    "    tracker = cv2.legacy.TrackerMOSSE_create()\n",
    "if tracker_type == \"CSRT\":\n",
    "    tracker = cv2.TrackerCSRT_create()\n",
    "\n",
    "x_0, y_0, w, h = t_1[0], t_1[1], t_1[2], t_1[3]\n",
    "img = cv2.imread(str(os.path.join(img_path, img_list[0])))\n",
    "ok = tracker.init(img, (x_0, y_0, w, h))\n",
    "\n",
    "# create a list to store the tracking results\n",
    "tracking_results_tracker = []\n",
    "f = open(f'Task 1/seq_{seq_num}/Results_Other.txt', 'w')\n",
    "\n",
    "for img_name in img_list:\n",
    "    img = cv2.imread(str(os.path.join(img_path, img_name)))\n",
    "    ok, bbox = tracker.update(img)\n",
    "    if ok:\n",
    "        tracking_results_tracker.append([int(bbox[0]), int(bbox[1]), int(bbox[0] + bbox[2]), int(bbox[1] + bbox[3])])\n",
    "        # save size_x, size_y, center_x, center_y in the txt file\n",
    "        f.write(str(bbox[0]) + ',' + str(bbox[1]) + ',' + str(bbox[2]) + ',' + str(bbox[3]) + '\\n')\n",
    "        p1 = (int(bbox[0]), int(bbox[1]))\n",
    "        p2 = (int(bbox[0] + bbox[2]), int(bbox[1] + bbox[3]))\n",
    "        cv2.rectangle(img, p1, p2, (255, 0, 0), 2)\n",
    "    cv2.imshow('Tracking', img)\n",
    "    cv2.waitKey(30)\n",
    "f.close()\n",
    "cv2.destroyAllWindows()"
   ],
   "metadata": {
    "collapsed": false,
    "ExecuteTime": {
     "end_time": "2024-02-22T14:14:56.369065900Z",
     "start_time": "2024-02-22T14:14:51.043049800Z"
    }
   }
  },
  {
   "cell_type": "markdown",
   "source": [
    "Load the ground truth"
   ],
   "metadata": {
    "collapsed": false
   }
  },
  {
   "cell_type": "code",
   "execution_count": 6,
   "metadata": {
    "ExecuteTime": {
     "end_time": "2024-02-22T14:14:56.922200900Z",
     "start_time": "2024-02-22T14:14:56.370065100Z"
    }
   },
   "outputs": [],
   "source": [
    "# load the ground truth\n",
    "GT = np.loadtxt(os.path.join(file_path, 'groundtruth.txt'),     \n",
    "                delimiter=',')\n",
    "GT = GT.astype(int)\n",
    "\n",
    "# create a list to store the tracking results\n",
    "Results_GT = []\n",
    "time_counter = 0\n",
    "for img_name in img_list:\n",
    "    x, y, w, h = GT[time_counter][0], GT[time_counter][1], GT[time_counter][2], GT[time_counter][3]\n",
    "    time_counter += 1\n",
    "    img = cv2.imread(str(os.path.join(img_path, img_name)))\n",
    "    Results_GT.append([x, y, x + w, y + h])\n",
    "    # cv2.rectangle(img, (x, y), (x + w, y + h), (0, 0, 255), 2)\n",
    "    # cv2.imshow('img', img)\n",
    "    # cv2.waitKey(100)\n",
    "    \n",
    "        # check if the user pressed the 'q' key\n",
    "        # if cv2.waitKey(1) & 0xFF == ord('q'):\n",
    "        #     break\n",
    "    cv2.destroyAllWindows()"
   ]
  },
  {
   "cell_type": "markdown",
   "metadata": {},
   "source": [
    "Evaluate the performance of the Single object tracking algorithm and visualise the results. \n"
   ]
  },
  {
   "cell_type": "code",
   "execution_count": 7,
   "metadata": {
    "ExecuteTime": {
     "end_time": "2024-02-22T14:14:57.062013300Z",
     "start_time": "2024-02-22T14:14:56.922200900Z"
    }
   },
   "outputs": [
    {
     "name": "stdout",
     "output_type": "stream",
     "text": [
      "The average overlap ratio for the template matching method is:  0.5773952441773877\n",
      "The average overlap ratio for the Kalman filter method is:  0.5765822736652965\n",
      "The average overlap ratio for the tracker method is:  0.6534690910150678\n"
     ]
    },
    {
     "data": {
      "text/plain": "<Figure size 640x480 with 1 Axes>",
      "image/png": "[encoded data removed]"
     },
     "metadata": {},
     "output_type": "display_data"
    }
   ],
   "source": [
    "# define the IOU calculation function\n",
    "def IOU_ratio(rect1, rect2):\n",
    "    x1, y1, x2, y2 = rect1\n",
    "    x3, y3, x4, y4 = rect2\n",
    "    x5, y5 = max(x1, x3), max(y1, y3)\n",
    "    x6, y6 = min(x2, x4), min(y2, y4) \n",
    "    overlap = max(0, x6 - x5) * max(0, y6 - y5)\n",
    "    area_1 = (x2 - x1) * (y2 - y1)\n",
    "    area_2 = (x4 - x3) * (y4 - y3)\n",
    "    union = area_1 + area_2 - overlap\n",
    "    return overlap / union\n",
    "\n",
    "# calculate the IOU ratio\n",
    "IOU_ratios_TM = [IOU_ratio(Results_GT[i], Results_TempMatch[i]) for i in range(len(Results_GT))]\n",
    "IOU_ratios_KF = [IOU_ratio(Results_GT[i], Results_Kalman[i]) for i in range(len(Results_GT))]\n",
    "IOU_ratios_Other = [IOU_ratio(Results_GT[i], tracking_results_tracker[i]) for i in range(len(Results_GT))]\n",
    "print('The average overlap ratio for the template matching method is: ', np.mean(IOU_ratios_TM))\n",
    "print('The average overlap ratio for the Kalman filter method is: ', np.mean(IOU_ratios_KF))\n",
    "print('The average overlap ratio for the tracker method is: ', np.mean(IOU_ratios_Other))\n",
    "\n",
    "# plot the overlap ratio\n",
    "plt.plot(IOU_ratios_TM, label='Template Matching', color='red')\n",
    "plt.plot(IOU_ratios_KF, label='Kalman Filter',linestyle=(0, (5, 5)), color='#D2B48C')\n",
    "plt.plot(IOU_ratios_Other, label='Other Methods')\n",
    "plt.xlabel('Image Number')\n",
    "plt.ylabel('IOU Ratio')\n",
    "plt.legend()\n",
    "plt.savefig(f'Task 1/seq_{seq_num}/IOU_Ratio.png')\n",
    "plt.show()"
   ]
  },
  {
   "cell_type": "markdown",
   "metadata": {},
   "source": [
    "Propose Improvements to the work if possible:"
   ]
  },
  {
   "cell_type": "markdown",
   "metadata": {},
   "source": []
  }
 ],
 "metadata": {
  "kernelspec": {
   "display_name": "python3.9",
   "language": "python",
   "name": "python3"
  },
  "language_info": {
   "codemirror_mode": {
    "name": "ipython",
    "version": 3
   },
   "file_extension": ".py",
   "mimetype": "text/x-python",
   "name": "python",
   "nbconvert_exporter": "python",
   "pygments_lexer": "ipython3",
   "version": "3.9.18"
  }
 },
 "nbformat": 4,
 "nbformat_minor": 2
}
